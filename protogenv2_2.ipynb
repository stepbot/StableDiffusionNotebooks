{
  "cells": [
    {
      "cell_type": "markdown",
      "metadata": {
        "id": "view-in-github",
        "colab_type": "text"
      },
      "source": [
        "<a href=\"https://colab.research.google.com/github/stepbot/StableDiffusionNotebooks/blob/main/protogenv2_2.ipynb\" target=\"_parent\"><img src=\"https://colab.research.google.com/assets/colab-badge.svg\" alt=\"Open In Colab\"/></a>"
      ]
    },
    {
      "cell_type": "code",
      "execution_count": null,
      "metadata": {
        "id": "IwnIO6CIIDgT"
      },
      "outputs": [],
      "source": [
        "# Go fetch the code\n",
        "!git clone https://github.com/AUTOMATIC1111/stable-diffusion-webui\n",
        "!git clone https://github.com/yfszzx/stable-diffusion-webui-images-browser stable-diffusion-webui/extensions/stable-diffusion-webui-images-browser"
      ]
    },
    {
      "cell_type": "code",
      "execution_count": null,
      "metadata": {
        "id": "TCS-rfghIHu6"
      },
      "outputs": [],
      "source": [
        "# fetch and install extensions\n",
        "!curl -Lo Style-Empire.ckpt https://civitai.com/api/download/models/2179\n",
        "!mv \"Style-Empire.ckpt\" \"stable-diffusion-webui/embeddings/Style-Empire\"\n",
        "!curl -Lo Style-Empire-neg.ckpt https://civitai.com/api/download/models/2179?type=Negative&format=Other\n",
        "!mv \"Style-Empire-neg.ckpt\" \"stable-diffusion-webui/embeddings/Style-Empire-neg\""
      ]
    },
    {
      "cell_type": "code",
      "execution_count": null,
      "metadata": {
        "id": "sypWSuUGILiX"
      },
      "outputs": [],
      "source": [
        "# fetch and install model\n",
        "!curl -Lo protogenv2.2.ckpt https://huggingface.co/darkstorm2150/Protogen_v2.2_Official_Release/resolve/main/Protogen_V2.2.ckpt\n",
        "!mv \"protogenv2.2.ckpt\" \"stable-diffusion-webui/models/Stable-diffusion\"\n",
        "\n"
      ]
    },
    {
      "cell_type": "code",
      "execution_count": null,
      "metadata": {
        "id": "afA1ckX1lEO9"
      },
      "outputs": [],
      "source": [
        "# fetch and install model\n",
        "!curl -Lo RealisticVision_v13.safetensors https://civitai.com/api/download/models/6987?type=Model&format=SafeTensor\n",
        "!mv \"RealisticVision_v13.safetensors\" \"stable-diffusion-webui/models/Stable-diffusion\""
      ]
    },
    {
      "cell_type": "code",
      "execution_count": null,
      "metadata": {
        "id": "F0ulcE8AO7dC"
      },
      "outputs": [],
      "source": [
        "# fix cannot add middleware after launch error\n",
        "!pip install fastapi==0.90.1\n",
        "!pip install safetensors==0.2.7\n",
        "!pip install pyngrok"
      ]
    },
    {
      "cell_type": "code",
      "source": [
        "from pyngrok import ngrok\n",
        "token = input('please enter your ngrok token\\n sign up for a free account at https://ngrok.com\\n')\n",
        "ngrok.set_auth_token(token)\n",
        "\n",
        "for tunnel in ngrok.get_tunnels():\n",
        "  ngrok.disconnect(tunnel.public_url)\n",
        "http_tunnel = ngrok.connect(addr=7860)\n",
        "print(str(http_tunnel))"
      ],
      "metadata": {
        "id": "Z-doWj7sAZF2"
      },
      "execution_count": null,
      "outputs": []
    },
    {
      "cell_type": "code",
      "execution_count": null,
      "metadata": {
        "id": "ypb5Rxs1IRq3"
      },
      "outputs": [],
      "source": [
        "# Now we set the web ui version we want to use. Main branch is unfortunately broken pretty often.\n",
        "%cd stable-diffusion-webui\n",
        "#!git checkout 93fad28\n",
        "!git pull"
      ]
    },
    {
      "cell_type": "code",
      "execution_count": null,
      "metadata": {
        "id": "kzVqjlAOIUpX"
      },
      "outputs": [],
      "source": [
        "# Lets light this candle\n",
        "!COMMANDLINE_ARGS=\"--disable-safe-unpickle --no-half-vae --xformers --reinstall-xformers --enable-insecure-extension-access\" REQS_FILE=\"requirements.txt\" python launch.py"
      ]
    }
  ],
  "metadata": {
    "accelerator": "GPU",
    "colab": {
      "provenance": [],
      "include_colab_link": true
    },
    "gpuClass": "premium",
    "kernelspec": {
      "display_name": "Python 3",
      "name": "python3"
    },
    "language_info": {
      "name": "python"
    }
  },
  "nbformat": 4,
  "nbformat_minor": 0
}