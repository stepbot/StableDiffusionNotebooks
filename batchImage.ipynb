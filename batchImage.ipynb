{
  "cells": [
    {
      "cell_type": "markdown",
      "metadata": {
        "id": "view-in-github",
        "colab_type": "text"
      },
      "source": [
        "<a href=\"https://colab.research.google.com/github/stepbot/StableDiffusionNotebooks/blob/main/batchImage.ipynb\" target=\"_parent\"><img src=\"https://colab.research.google.com/assets/colab-badge.svg\" alt=\"Open In Colab\"/></a>"
      ]
    },
    {
      "cell_type": "code",
      "execution_count": null,
      "metadata": {
        "id": "zHkHsdtnry57"
      },
      "outputs": [],
      "source": [
        "!nvidia-smi"
      ]
    },
    {
      "cell_type": "code",
      "execution_count": null,
      "metadata": {
        "id": "aIrgth7sqFML"
      },
      "outputs": [],
      "source": [
        "!pip install diffusers[torch]==0.14.0 transformers scipy ftfy accelerate"
      ]
    },
    {
      "cell_type": "code",
      "execution_count": null,
      "metadata": {
        "id": "BSRPVu8Biq2U"
      },
      "outputs": [],
      "source": [
        "from diffusers import StableDiffusionPipeline\n",
        "from diffusers import DDPMScheduler, DDIMScheduler, PNDMScheduler, EulerAncestralDiscreteScheduler\n",
        "import torch\n",
        "from PIL import Image\n",
        "from matplotlib import pyplot as plt\n",
        "from IPython import display"
      ]
    },
    {
      "cell_type": "code",
      "execution_count": null,
      "metadata": {
        "id": "FqqIFzJPZBh3"
      },
      "outputs": [],
      "source": [
        "# select model\n",
        "model_id = \"XpucT/Deliberate\""
      ]
    },
    {
      "cell_type": "code",
      "execution_count": null,
      "metadata": {
        "id": "xSKWBKFPArKS"
      },
      "outputs": [],
      "source": [
        "pipe = StableDiffusionPipeline.from_pretrained(model_id,torch_dtype=torch.float16)\n",
        "\n",
        "ddim_scheduler = DDIMScheduler.from_config(pipe.scheduler.config)\n",
        "ddpm_scheduler = DDPMScheduler.from_config(pipe.scheduler.config)\n",
        "pndm_scheduler = PNDMScheduler.from_config(pipe.scheduler.config)\n",
        "eulerA_scheduler = EulerAncestralDiscreteScheduler.from_config(pipe.scheduler.config)\n",
        "\n",
        "# set scheduler\n",
        "pipe.scheduler = ddim_scheduler\n",
        "\n",
        "pipe.safety_checker=None\n",
        "pipe = pipe.to(\"cuda\")"
      ]
    },
    {
      "cell_type": "code",
      "execution_count": null,
      "metadata": {
        "id": "mH3hO-DFZxEC"
      },
      "outputs": [],
      "source": [
        "%matplotlib inline\n",
        "\n",
        "# set batch size\n",
        "batch_size = 8\n",
        "\n",
        "# set prompts\n",
        "prompt = \"\"\n",
        "n_prompt = \"(deformed, distorted, disfigured:1.3), poorly drawn, bad anatomy, wrong anatomy, extra limb, missing limb, floating limbs, (mutated hands and fingers:1.4), disconnected limbs, mutation, mutated, ugly, disgusting, blurry, amputation. tattoo\"\n",
        "\n",
        "# generate images\n",
        "images = pipe(prompt=[prompt]*batch_size, negative_prompt=[n_prompt]*batch_size, guidance_scale=8, num_inference_steps=50, height=768, width=768).images\n",
        "\n",
        "# save images\n",
        "for ii in range(len(images)):\n",
        "  image = images[ii]\n",
        "  image_name = \"output\"+str(ii)+\".png\"\n",
        "  image.save(image_name)\n",
        "  plt.figure(figsize = (8,8))\n",
        "  plt.imshow(image)\n",
        "  plt.axis(\"off\")\n",
        "  plt.title(image_name)\n",
        "  plt.show()\n",
        "\n"
      ]
    }
  ],
  "metadata": {
    "accelerator": "GPU",
    "colab": {
      "machine_shape": "hm",
      "provenance": [],
      "include_colab_link": true
    },
    "gpuClass": "premium",
    "kernelspec": {
      "display_name": "Python 3",
      "name": "python3"
    },
    "language_info": {
      "name": "python"
    }
  },
  "nbformat": 4,
  "nbformat_minor": 0
}