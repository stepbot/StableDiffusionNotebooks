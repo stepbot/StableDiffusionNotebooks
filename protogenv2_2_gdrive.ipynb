{
  "cells": [
    {
      "cell_type": "markdown",
      "metadata": {
        "id": "view-in-github",
        "colab_type": "text"
      },
      "source": [
        "<a href=\"https://colab.research.google.com/github/stepbot/StableDiffusionNotebooks/blob/main/protogenv2_2_gdrive.ipynb\" target=\"_parent\"><img src=\"https://colab.research.google.com/assets/colab-badge.svg\" alt=\"Open In Colab\"/></a>"
      ]
    },
    {
      "cell_type": "code",
      "source": [
        "from google.colab import drive\n",
        "drive.mount('/content/drive')\n",
        "%cd /content/drive/MyDrive/sd_root\n",
        "token = None"
      ],
      "metadata": {
        "id": "me8qcvKd1aoK"
      },
      "execution_count": null,
      "outputs": []
    },
    {
      "cell_type": "code",
      "execution_count": null,
      "metadata": {
        "id": "IwnIO6CIIDgT"
      },
      "outputs": [],
      "source": [
        "# Go fetch the code\n",
        "!git clone https://github.com/AUTOMATIC1111/stable-diffusion-webui\n",
        "!git clone https://github.com/yfszzx/stable-diffusion-webui-images-browser stable-diffusion-webui/extensions/stable-diffusion-webui-images-browser"
      ]
    },
    {
      "cell_type": "code",
      "execution_count": null,
      "metadata": {
        "id": "TCS-rfghIHu6"
      },
      "outputs": [],
      "source": [
        "# fetch and install extensions\n",
        "!curl -Lo Style-Empire.ckpt https://civitai.com/api/download/models/2179\n",
        "!mv \"Style-Empire.ckpt\" \"stable-diffusion-webui/embeddings/Style-Empire\"\n",
        "!curl -Lo Style-Empire-neg.ckpt https://civitai.com/api/download/models/2179?type=Negative&format=Other\n",
        "!mv \"Style-Empire-neg.ckpt\" \"stable-diffusion-webui/embeddings/Style-Empire-neg\""
      ]
    },
    {
      "cell_type": "code",
      "execution_count": null,
      "metadata": {
        "id": "sypWSuUGILiX"
      },
      "outputs": [],
      "source": [
        "# fetch and install model\n",
        "!curl -Lo protogenv2.2.ckpt https://huggingface.co/darkstorm2150/Protogen_v2.2_Official_Release/resolve/main/Protogen_V2.2.ckpt\n",
        "!mv \"protogenv2.2.ckpt\" \"stable-diffusion-webui/models/Stable-diffusion\"\n",
        "\n"
      ]
    },
    {
      "cell_type": "code",
      "execution_count": null,
      "metadata": {
        "id": "F0ulcE8AO7dC"
      },
      "outputs": [],
      "source": [
        "# fix cannot add middleware after launch error\n",
        "!pip install fastapi==0.90.1\n",
        "!pip install safetensors==0.2.7\n",
        "!pip install pyngrok"
      ]
    },
    {
      "cell_type": "code",
      "execution_count": null,
      "metadata": {
        "id": "kzVqjlAOIUpX"
      },
      "outputs": [],
      "source": [
        "#setup an ngrok tunnel\n",
        "from pyngrok import ngrok\n",
        "if not token:\n",
        "  token = input('please enter your ngrok token\\n sign up for a free account at https://ngrok.com\\n')\n",
        "ngrok.set_auth_token(token)\n",
        "\n",
        "for tunnel in ngrok.get_tunnels():\n",
        "  ngrok.disconnect(tunnel.public_url)\n",
        "http_tunnel = ngrok.connect(addr=7860)\n",
        "print(str(http_tunnel))\n",
        "\n",
        "# Lets light this candle\n",
        "!COMMANDLINE_ARGS=\"--disable-safe-unpickle --no-half-vae --xformers --reinstall-xformers --enable-insecure-extension-access\" REQS_FILE=\"requirements.txt\" python launch.py"
      ]
    }
  ],
  "metadata": {
    "accelerator": "GPU",
    "colab": {
      "provenance": [],
      "include_colab_link": true
    },
    "gpuClass": "premium",
    "kernelspec": {
      "display_name": "Python 3",
      "name": "python3"
    },
    "language_info": {
      "name": "python"
    }
  },
  "nbformat": 4,
  "nbformat_minor": 0
}